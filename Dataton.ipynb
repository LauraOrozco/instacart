{
  "nbformat": 4,
  "nbformat_minor": 0,
  "metadata": {
    "colab": {
      "name": "Dataton.ipynb",
      "provenance": [],
      "collapsed_sections": [],
      "machine_shape": "hm"
    },
    "kernelspec": {
      "name": "python3",
      "display_name": "Python 3"
    },
    "accelerator": "GPU"
  },
  "cells": [
    {
      "cell_type": "markdown",
      "metadata": {
        "id": "mq11ajEPU7X_",
        "colab_type": "text"
      },
      "source": [
        "[![Open In Colab](https://colab.research.google.com/assets/colab-badge.svg)](https://colab.research.google.com/github/LauraOrozco/DatatonBC2019/blob/master/Dataton.ipynb)\n",
        "\n",
        "\n"
      ]
    },
    {
      "cell_type": "code",
      "metadata": {
        "id": "M9in-xF9L748",
        "colab_type": "code",
        "colab": {}
      },
      "source": [
        "import itertools #iteraciones \n",
        "import numpy as np #operaciones matematicas para matrices\n",
        "import matplotlib.pyplot as plt #plots\n",
        "from matplotlib.ticker import NullFormatter #No se acumulen los datos\n",
        "import pandas as pd #Estructuras de datos - data.frames\n",
        "import numpy as np\n",
        "import matplotlib.ticker as ticker\n",
        "from sklearn import preprocessing\n",
        "import IPython\n",
        "import os\n",
        "import seaborn as sns\n",
        "from IPython.display import clear_output\n",
        "import csv\n",
        "#%matplotlib inline"
      ],
      "execution_count": 0,
      "outputs": []
    },
    {
      "cell_type": "code",
      "metadata": {
        "id": "cD5do5_5ONaq",
        "colab_type": "code",
        "colab": {}
      },
      "source": [
        "from google.colab import drive \n",
        "drive.mount('/content/gdrive')"
      ],
      "execution_count": 0,
      "outputs": []
    },
    {
      "cell_type": "code",
      "metadata": {
        "id": "xw8d1BZR4vCS",
        "colab_type": "code",
        "colab": {}
      },
      "source": [
        "import pandas as pd \n",
        "df1 = pd.read_csv('/content/gdrive/My Drive/datatn-bancolombia-2019/DT19_Datos_transaccionales_train.csv')"
      ],
      "execution_count": 0,
      "outputs": []
    },
    {
      "cell_type": "code",
      "metadata": {
        "id": "W-O4ynPk5gtx",
        "colab_type": "code",
        "colab": {}
      },
      "source": [
        "df1.shape"
      ],
      "execution_count": 0,
      "outputs": []
    },
    {
      "cell_type": "code",
      "metadata": {
        "id": "YdT0EtoN5lDu",
        "colab_type": "code",
        "colab": {}
      },
      "source": [
        "df2 = pd.read_csv('/content/gdrive/My Drive/datatn-bancolombia-2019/DT19_Datos_Var_Rpta_train.csv')"
      ],
      "execution_count": 0,
      "outputs": []
    },
    {
      "cell_type": "code",
      "metadata": {
        "id": "HHmyHHka5_mg",
        "colab_type": "code",
        "colab": {}
      },
      "source": [
        "df1.describe()"
      ],
      "execution_count": 0,
      "outputs": []
    },
    {
      "cell_type": "code",
      "metadata": {
        "id": "O4LZg3S9-Vhs",
        "colab_type": "code",
        "colab": {}
      },
      "source": [
        "df3 = pd.merge(df1, df2)\n",
        "df3"
      ],
      "execution_count": 0,
      "outputs": []
    },
    {
      "cell_type": "code",
      "metadata": {
        "id": "FIt9lsFz-ehg",
        "colab_type": "code",
        "colab": {}
      },
      "source": [
        "df3.shape"
      ],
      "execution_count": 0,
      "outputs": []
    },
    {
      "cell_type": "code",
      "metadata": {
        "id": "GivgDjEX-oLs",
        "colab_type": "code",
        "colab": {
          "base_uri": "https://localhost:8080/",
          "height": 297
        },
        "outputId": "32dbf68d-5485-4fc7-a3b1-629aecf6119a"
      },
      "source": [
        "df2.describe()"
      ],
      "execution_count": 10,
      "outputs": [
        {
          "output_type": "execute_result",
          "data": {
            "text/html": [
              "<div>\n",
              "<style scoped>\n",
              "    .dataframe tbody tr th:only-of-type {\n",
              "        vertical-align: middle;\n",
              "    }\n",
              "\n",
              "    .dataframe tbody tr th {\n",
              "        vertical-align: top;\n",
              "    }\n",
              "\n",
              "    .dataframe thead th {\n",
              "        text-align: right;\n",
              "    }\n",
              "</style>\n",
              "<table border=\"1\" class=\"dataframe\">\n",
              "  <thead>\n",
              "    <tr style=\"text-align: right;\">\n",
              "      <th></th>\n",
              "      <th>id</th>\n",
              "      <th>f_analisis</th>\n",
              "      <th>var_rpta</th>\n",
              "      <th>segmento</th>\n",
              "    </tr>\n",
              "  </thead>\n",
              "  <tbody>\n",
              "    <tr>\n",
              "      <th>count</th>\n",
              "      <td>76536.000000</td>\n",
              "      <td>76536.000000</td>\n",
              "      <td>76536.000000</td>\n",
              "      <td>76536.000000</td>\n",
              "    </tr>\n",
              "    <tr>\n",
              "      <th>mean</th>\n",
              "      <td>38268.500000</td>\n",
              "      <td>201691.858028</td>\n",
              "      <td>0.072188</td>\n",
              "      <td>3.432058</td>\n",
              "    </tr>\n",
              "    <tr>\n",
              "      <th>std</th>\n",
              "      <td>22094.184438</td>\n",
              "      <td>72.784837</td>\n",
              "      <td>0.258801</td>\n",
              "      <td>1.942428</td>\n",
              "    </tr>\n",
              "    <tr>\n",
              "      <th>min</th>\n",
              "      <td>1.000000</td>\n",
              "      <td>201601.000000</td>\n",
              "      <td>0.000000</td>\n",
              "      <td>0.000000</td>\n",
              "    </tr>\n",
              "    <tr>\n",
              "      <th>25%</th>\n",
              "      <td>19134.750000</td>\n",
              "      <td>201610.000000</td>\n",
              "      <td>0.000000</td>\n",
              "      <td>2.000000</td>\n",
              "    </tr>\n",
              "    <tr>\n",
              "      <th>50%</th>\n",
              "      <td>38268.500000</td>\n",
              "      <td>201705.000000</td>\n",
              "      <td>0.000000</td>\n",
              "      <td>4.000000</td>\n",
              "    </tr>\n",
              "    <tr>\n",
              "      <th>75%</th>\n",
              "      <td>57402.250000</td>\n",
              "      <td>201711.000000</td>\n",
              "      <td>0.000000</td>\n",
              "      <td>5.000000</td>\n",
              "    </tr>\n",
              "    <tr>\n",
              "      <th>max</th>\n",
              "      <td>76536.000000</td>\n",
              "      <td>201807.000000</td>\n",
              "      <td>1.000000</td>\n",
              "      <td>5.000000</td>\n",
              "    </tr>\n",
              "  </tbody>\n",
              "</table>\n",
              "</div>"
            ],
            "text/plain": [
              "                 id     f_analisis      var_rpta      segmento\n",
              "count  76536.000000   76536.000000  76536.000000  76536.000000\n",
              "mean   38268.500000  201691.858028      0.072188      3.432058\n",
              "std    22094.184438      72.784837      0.258801      1.942428\n",
              "min        1.000000  201601.000000      0.000000      0.000000\n",
              "25%    19134.750000  201610.000000      0.000000      2.000000\n",
              "50%    38268.500000  201705.000000      0.000000      4.000000\n",
              "75%    57402.250000  201711.000000      0.000000      5.000000\n",
              "max    76536.000000  201807.000000      1.000000      5.000000"
            ]
          },
          "metadata": {
            "tags": []
          },
          "execution_count": 10
        }
      ]
    },
    {
      "cell_type": "code",
      "metadata": {
        "id": "2fQXXM7QdkED",
        "colab_type": "code",
        "colab": {
          "base_uri": "https://localhost:8080/",
          "height": 34
        },
        "outputId": "77f47188-8204-4565-9eaf-c140a80cbf2c"
      },
      "source": [
        "df3.shape"
      ],
      "execution_count": 11,
      "outputs": [
        {
          "output_type": "execute_result",
          "data": {
            "text/plain": [
              "(40533683, 11)"
            ]
          },
          "metadata": {
            "tags": []
          },
          "execution_count": 11
        }
      ]
    },
    {
      "cell_type": "code",
      "metadata": {
        "id": "5_FrN55-LmbH",
        "colab_type": "code",
        "colab": {}
      },
      "source": [
        "df4 = pd.read_csv('/content/gdrive/My Drive/datatn-bancolombia-2019/DT19_Datos_transaccionales_predict.csv')"
      ],
      "execution_count": 0,
      "outputs": []
    },
    {
      "cell_type": "code",
      "metadata": {
        "id": "lmy8mvIBLmek",
        "colab_type": "code",
        "colab": {}
      },
      "source": [
        "df5 = pd.read_csv('/content/gdrive/My Drive/datatn-bancolombia-2019/DT19_IDs_predict.csv')"
      ],
      "execution_count": 0,
      "outputs": []
    },
    {
      "cell_type": "code",
      "metadata": {
        "id": "AdHQB7wvLmYq",
        "colab_type": "code",
        "colab": {}
      },
      "source": [
        "df6 = pd.merge(df4, df5)"
      ],
      "execution_count": 0,
      "outputs": []
    },
    {
      "cell_type": "code",
      "metadata": {
        "id": "0rg43sxLM3Z4",
        "colab_type": "code",
        "colab": {
          "base_uri": "https://localhost:8080/",
          "height": 34
        },
        "outputId": "3afccdeb-8a79-49c1-bd6e-3452e2c30716"
      },
      "source": [
        "df6.shape"
      ],
      "execution_count": 15,
      "outputs": [
        {
          "output_type": "execute_result",
          "data": {
            "text/plain": [
              "(17376775, 10)"
            ]
          },
          "metadata": {
            "tags": []
          },
          "execution_count": 15
        }
      ]
    },
    {
      "cell_type": "code",
      "metadata": {
        "id": "0NJXutNTM6FH",
        "colab_type": "code",
        "colab": {}
      },
      "source": [
        "n = df3.shape[0] + df6.shape[0]"
      ],
      "execution_count": 0,
      "outputs": []
    },
    {
      "cell_type": "code",
      "metadata": {
        "id": "B7fYYDKFNRbI",
        "colab_type": "code",
        "colab": {
          "base_uri": "https://localhost:8080/",
          "height": 34
        },
        "outputId": "9bd976c6-44a4-4160-c0cd-d4070c604aca"
      },
      "source": [
        "test = df6.shape[0]/n\n",
        "print(test)"
      ],
      "execution_count": 19,
      "outputs": [
        {
          "output_type": "stream",
          "text": [
            "0.3000628142156983\n"
          ],
          "name": "stdout"
        }
      ]
    },
    {
      "cell_type": "code",
      "metadata": {
        "id": "O27CA5tFNna1",
        "colab_type": "code",
        "colab": {
          "base_uri": "https://localhost:8080/",
          "height": 34
        },
        "outputId": "ac424a06-b279-487f-e4b5-0b940dafaa92"
      },
      "source": [
        "train =  df3.shape[0]/n\n",
        "print(train)"
      ],
      "execution_count": 21,
      "outputs": [
        {
          "output_type": "stream",
          "text": [
            "0.6999371857843016\n"
          ],
          "name": "stdout"
        }
      ]
    },
    {
      "cell_type": "code",
      "metadata": {
        "id": "oOYSzqQDOYpd",
        "colab_type": "code",
        "colab": {
          "base_uri": "https://localhost:8080/",
          "height": 204
        },
        "outputId": "09a5c2dd-8052-444a-bbac-5e4779d5f44d"
      },
      "source": [
        "df6.head()"
      ],
      "execution_count": 22,
      "outputs": [
        {
          "output_type": "execute_result",
          "data": {
            "text/html": [
              "<div>\n",
              "<style scoped>\n",
              "    .dataframe tbody tr th:only-of-type {\n",
              "        vertical-align: middle;\n",
              "    }\n",
              "\n",
              "    .dataframe tbody tr th {\n",
              "        vertical-align: top;\n",
              "    }\n",
              "\n",
              "    .dataframe thead th {\n",
              "        text-align: right;\n",
              "    }\n",
              "</style>\n",
              "<table border=\"1\" class=\"dataframe\">\n",
              "  <thead>\n",
              "    <tr style=\"text-align: right;\">\n",
              "      <th></th>\n",
              "      <th>id</th>\n",
              "      <th>fecha_trxn</th>\n",
              "      <th>canal</th>\n",
              "      <th>disposit</th>\n",
              "      <th>cdgtrn</th>\n",
              "      <th>cdgrpta</th>\n",
              "      <th>vlrtran</th>\n",
              "      <th>sesion</th>\n",
              "      <th>f_analisis</th>\n",
              "      <th>segmento</th>\n",
              "    </tr>\n",
              "  </thead>\n",
              "  <tbody>\n",
              "    <tr>\n",
              "      <th>0</th>\n",
              "      <td>76537</td>\n",
              "      <td>2018-05-31 16:40:00.361800</td>\n",
              "      <td>CANAL_6</td>\n",
              "      <td>DISPOSIT_4</td>\n",
              "      <td>1756</td>\n",
              "      <td>0</td>\n",
              "      <td>0.0</td>\n",
              "      <td>26</td>\n",
              "      <td>201806</td>\n",
              "      <td>5</td>\n",
              "    </tr>\n",
              "    <tr>\n",
              "      <th>1</th>\n",
              "      <td>76537</td>\n",
              "      <td>2018-05-31 16:40:00.147800</td>\n",
              "      <td>CANAL_6</td>\n",
              "      <td>DISPOSIT_4</td>\n",
              "      <td>369</td>\n",
              "      <td>0</td>\n",
              "      <td>0.0</td>\n",
              "      <td>26</td>\n",
              "      <td>201806</td>\n",
              "      <td>5</td>\n",
              "    </tr>\n",
              "    <tr>\n",
              "      <th>2</th>\n",
              "      <td>76537</td>\n",
              "      <td>2018-05-31 16:40:00.021200</td>\n",
              "      <td>CANAL_6</td>\n",
              "      <td>DISPOSIT_4</td>\n",
              "      <td>369</td>\n",
              "      <td>0</td>\n",
              "      <td>0.0</td>\n",
              "      <td>25</td>\n",
              "      <td>201806</td>\n",
              "      <td>5</td>\n",
              "    </tr>\n",
              "    <tr>\n",
              "      <th>3</th>\n",
              "      <td>76537</td>\n",
              "      <td>2018-05-30 19:16:00.432600</td>\n",
              "      <td>CANAL_6</td>\n",
              "      <td>DISPOSIT_4</td>\n",
              "      <td>1756</td>\n",
              "      <td>0</td>\n",
              "      <td>0.0</td>\n",
              "      <td>24</td>\n",
              "      <td>201806</td>\n",
              "      <td>5</td>\n",
              "    </tr>\n",
              "    <tr>\n",
              "      <th>4</th>\n",
              "      <td>76537</td>\n",
              "      <td>2018-05-30 19:16:00.344600</td>\n",
              "      <td>CANAL_6</td>\n",
              "      <td>DISPOSIT_4</td>\n",
              "      <td>369</td>\n",
              "      <td>0</td>\n",
              "      <td>0.0</td>\n",
              "      <td>24</td>\n",
              "      <td>201806</td>\n",
              "      <td>5</td>\n",
              "    </tr>\n",
              "  </tbody>\n",
              "</table>\n",
              "</div>"
            ],
            "text/plain": [
              "      id                  fecha_trxn    canal  ... sesion  f_analisis  segmento\n",
              "0  76537  2018-05-31 16:40:00.361800  CANAL_6  ...     26      201806         5\n",
              "1  76537  2018-05-31 16:40:00.147800  CANAL_6  ...     26      201806         5\n",
              "2  76537  2018-05-31 16:40:00.021200  CANAL_6  ...     25      201806         5\n",
              "3  76537  2018-05-30 19:16:00.432600  CANAL_6  ...     24      201806         5\n",
              "4  76537  2018-05-30 19:16:00.344600  CANAL_6  ...     24      201806         5\n",
              "\n",
              "[5 rows x 10 columns]"
            ]
          },
          "metadata": {
            "tags": []
          },
          "execution_count": 22
        }
      ]
    },
    {
      "cell_type": "code",
      "metadata": {
        "id": "sXUycF66Pw9U",
        "colab_type": "code",
        "colab": {}
      },
      "source": [
        "df7 = pd.read_csv('/content/gdrive/My Drive/datatn-bancolombia-2019/DT19_IDs_predict.csv')"
      ],
      "execution_count": 0,
      "outputs": []
    }
  ]
}